{
 "cells": [
  {
   "cell_type": "code",
   "execution_count": 3,
   "metadata": {},
   "outputs": [
    {
     "name": "stdout",
     "output_type": "stream",
     "text": [
      "Using Tensorflow v2.1.0\n",
      "Available memory: 30217 Mb\n"
     ]
    }
   ],
   "source": [
    "import sys, os\n",
    "import tensorflow as tf\n",
    "print(f\"Using Tensorflow v{tf.__version__}\")\n",
    "\n",
    "import psutil\n",
    "process = psutil.Process(os.getpid())\n",
    "nbytes = process.memory_info().rss # bytes\n",
    "print(f\"Available memory: {int(psutil.virtual_memory().available / 1024 / 1024)} Mb\")\n",
    "\n",
    "# For managing relative imports from notebook\n",
    "if '..' not in sys.path: sys.path.append('..')\n",
    "\n",
    "import config.config as dfc\n",
    "\n",
    "# os.environ[\"TENSORBOARD_BINARY\"] = \"/home/ec2-user/SageMaker/miniconda/miniconda/envs/deepfake/bin/tensorboard\""
   ]
  },
  {
   "cell_type": "markdown",
   "metadata": {},
   "source": [
    "https://deepfake-instance-vpn.notebook.us-west-2.sagemaker.aws/proxy/8088"
   ]
  },
  {
   "cell_type": "code",
   "execution_count": 11,
   "metadata": {},
   "outputs": [],
   "source": [
    "# import urllib.request\n",
    "import boto3\n",
    "\n",
    "tbbucket = boto3.resource('s3').Bucket('ajdonich.tensorboard')\n",
    "\n",
    "# s3.Object('mybucket', 'hello.txt').put(Body=open('/tmp/hello.txt', 'rb'))\n",
    "\n",
    "\n",
    "for root, subdirs, files in os.walk(dfc.TBOARD_LOG):\n",
    "#     print(\"root:\", root)\n",
    "#     print(\"subdirs:\", subdirs)\n",
    "#     print(\"files\", files)\n",
    "    \n",
    "    base = root.replace('/home/ec2-user/SageMaker/tensorboard/', '')\n",
    "    for file in files: tbbucket.put_object(Key=f\"{base}/{file}\", Body=open(f\"{root}/{file}\", 'rb'))\n",
    "\n",
    "# https://s3.console.aws.amazon.com/s3/home?region=us-west-2\n",
    "\n",
    "# def download(url):\n",
    "#     filename = url.split(\"/\")[-1]\n",
    "#     if not os.path.exists(filename):\n",
    "#         urllib.request.urlretrieve(url, filename)\n",
    "\n",
    "\n",
    "# def upload_to_s3(channel, file):\n",
    "#     s3 = boto3.resource('s3')\n",
    "#     data = open(file, \"rb\")\n",
    "#     key = channel + '/' + file\n",
    "#     s3.Bucket(bucket).put_object(Key=key, Body=data)"
   ]
  },
  {
   "cell_type": "code",
   "execution_count": null,
   "metadata": {},
   "outputs": [],
   "source": [
    "%%bash\n",
    "\n",
    "export PATH=/home/ec2-user/SageMaker/miniconda/miniconda/envs/deepfake/bin/:$PATH\n",
    "tensorboard --logdir /home/ec2-user/SageMaker/tensorboard/ --port 8088 &"
   ]
  },
  {
   "cell_type": "code",
   "execution_count": 1,
   "metadata": {},
   "outputs": [
    {
     "name": "stdout",
     "output_type": "stream",
     "text": [
      "  PID TTY          TIME CMD\n",
      "31581 pts/1    00:00:00 ps\n"
     ]
    }
   ],
   "source": [
    "!ps"
   ]
  },
  {
   "cell_type": "code",
   "execution_count": 2,
   "metadata": {},
   "outputs": [
    {
     "ename": "NameError",
     "evalue": "name 'dfc' is not defined",
     "output_type": "error",
     "traceback": [
      "\u001b[0;31m---------------------------------------------------------------------------\u001b[0m",
      "\u001b[0;31mNameError\u001b[0m                                 Traceback (most recent call last)",
      "\u001b[0;32m<ipython-input-2-deba227eb382>\u001b[0m in \u001b[0;36m<module>\u001b[0;34m\u001b[0m\n\u001b[1;32m      3\u001b[0m \u001b[0;31m# import boto3\u001b[0m\u001b[0;34m\u001b[0m\u001b[0;34m\u001b[0m\u001b[0;34m\u001b[0m\u001b[0m\n\u001b[1;32m      4\u001b[0m \u001b[0;34m\u001b[0m\u001b[0m\n\u001b[0;32m----> 5\u001b[0;31m \u001b[0;32mfor\u001b[0m \u001b[0mfile\u001b[0m \u001b[0;32min\u001b[0m \u001b[0mos\u001b[0m\u001b[0;34m.\u001b[0m\u001b[0mlistdir\u001b[0m\u001b[0;34m(\u001b[0m\u001b[0mdfc\u001b[0m\u001b[0;34m.\u001b[0m\u001b[0mTBOARD_LOG\u001b[0m\u001b[0;34m)\u001b[0m\u001b[0;34m:\u001b[0m\u001b[0;34m\u001b[0m\u001b[0;34m\u001b[0m\u001b[0m\n\u001b[0m\u001b[1;32m      6\u001b[0m     \u001b[0mprint\u001b[0m\u001b[0;34m(\u001b[0m\u001b[0mfile\u001b[0m\u001b[0;34m)\u001b[0m\u001b[0;34m\u001b[0m\u001b[0;34m\u001b[0m\u001b[0m\n\u001b[1;32m      7\u001b[0m \u001b[0;34m\u001b[0m\u001b[0m\n",
      "\u001b[0;31mNameError\u001b[0m: name 'dfc' is not defined"
     ]
    }
   ],
   "source": []
  },
  {
   "cell_type": "markdown",
   "metadata": {},
   "source": []
  },
  {
   "cell_type": "code",
   "execution_count": null,
   "metadata": {},
   "outputs": [],
   "source": []
  },
  {
   "cell_type": "code",
   "execution_count": null,
   "metadata": {},
   "outputs": [],
   "source": []
  }
 ],
 "metadata": {
  "kernelspec": {
   "display_name": "conda_deepfake",
   "language": "python",
   "name": "deepfake"
  },
  "language_info": {
   "codemirror_mode": {
    "name": "ipython",
    "version": 3
   },
   "file_extension": ".py",
   "mimetype": "text/x-python",
   "name": "python",
   "nbconvert_exporter": "python",
   "pygments_lexer": "ipython3",
   "version": "3.7.6"
  }
 },
 "nbformat": 4,
 "nbformat_minor": 4
}
