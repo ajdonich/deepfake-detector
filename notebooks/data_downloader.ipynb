{
 "cells": [
  {
   "cell_type": "code",
   "execution_count": 1,
   "metadata": {},
   "outputs": [],
   "source": [
    "%load_ext autoreload\n",
    "%autoreload 2\n",
    "\n",
    "import sys\n",
    "\n",
    "# For managing relative imports from notebook\n",
    "if '..' not in sys.path: sys.path.append('..')\n",
    "\n",
    "import config.config as dfc\n",
    "import deepfake.dfutillib as df"
   ]
  },
  {
   "cell_type": "markdown",
   "metadata": {},
   "source": [
    "# Dataset Downloader\n",
    "\n",
    "This Notebook is just for downloading the full dataset off of the kaggle website. You can do this by hand from your browser  \n",
    "locally, I really wrote it for AWS to pull directly onto an EC2 or Sagemaker instance (but works for local machine too). \n",
    "\n",
    "This uses **wget** and requires a **cookies.txt** file (stoopid kaggle CLI wouldn't work for the real deal dataset of this  \n",
    "competition, and I couldn't get requests to work either because there's an authentication step, it's not fully public URIs).\n",
    "\n",
    "To get the cookies.txt file: login to the kaggle site (you'll probably need to join the competition too), then use this Chrome  \n",
    "plugin to save the cookies.txt file: https://chrome.google.com/webstore/detail/cookiestxt/njabckikapfpffapmjgojcnbfjonfjfg?hl=en\n",
    "\n",
    "**TODO:** will probably need to write code in here to push the dataset to S3 after download, unless just parking it on the  \n",
    "EC2/Sagemaker disk ends up being cost effective enough or necessary for efficient enough training."
   ]
  },
  {
   "cell_type": "code",
   "execution_count": 2,
   "metadata": {},
   "outputs": [],
   "source": [
    "# NOTE: notebook requires appropriate setup of deepfake.config \n",
    "# Be prepared for 500GB to get downloaded into your DATA_LAKE\n",
    "# (and you'll prob need another 500GB there to preprocess \n",
    "# it all too, but that doesn't happen from this notebook).\n",
    "\n",
    "data_lake, cookies_txt = dfc.DATA_LAKE, dfc.COOKIES_TXT\n",
    "assert df.file_exists(cookies_txt), f\"Cookies file: {cookies_txt} does not exist.\""
   ]
  },
  {
   "cell_type": "code",
   "execution_count": 3,
   "metadata": {},
   "outputs": [
    {
     "name": "stdout",
     "output_type": "stream",
     "text": [
      "/home/ec2-user/SageMaker/ebs/deepfake-sample-test\n"
     ]
    }
   ],
   "source": [
    "print(data_lake)"
   ]
  },
  {
   "cell_type": "code",
   "execution_count": 4,
   "metadata": {},
   "outputs": [
    {
     "name": "stdout",
     "output_type": "stream",
     "text": [
      "--2020-03-30 03:18:45--  https://www.kaggle.com/c/deepfake-detection-challenge/download/Z1QcG4KHiVQaMucH9dng%2Fversions%2FvI13Sc4R0yAI121wogYv%2Fdirectories%2Ftest_videos%2Ffiles%2Faassnaulhq.mp4\n",
      "Resolving www.kaggle.com (www.kaggle.com)... 35.244.233.98\n",
      "Connecting to www.kaggle.com (www.kaggle.com)|35.244.233.98|:443... connected.\n",
      "HTTP request sent, awaiting response... 302 Found\n",
      "Location: https://storage.googleapis.com/kaggle-competitions-data/kaggle-v2/16880/858837/compressed/test_videos/aassnaulhq.mp4.zip?GoogleAccessId=web-data@kaggle-161607.iam.gserviceaccount.com&Expires=1585797525&Signature=XuoQhHRpR%2F46UJq%2B7XjXgiEoWyusqoyd6g%2BzAUb74CKLzKeSOvRVzkG4pUje5MhPxLlmRgWdyOpDLnHtSPiAQ6emGYKITa6mmXbuNqIW85O8dmZeIJEfUqDbQ%2FjdWcHAbS3bEtXcxCumvFAz%2FN1wi3nfe2fvzgL2yQY4YaWy7E7fEjDds8fPPDskEC1OAOeDJCYTTk2ce%2BfrSO8iOv%2F4Cdgcx99L4gbiNuNlJ7%2BP3RXu%2FfdukLVZO3jsqCiecFeU52Mb8OMybrLYNRkjabBK3CLZKU8Yv%2BDAniPDj%2F7q%2B7D4xkEDKaHOi4aUjxKD2gHDpkpbJkjbK7nXxZwKWo69mg%3D%3D&response-content-disposition=attachment%3B+filename%3Daassnaulhq.mp4.zip [following]\n",
      "--2020-03-30 03:18:45--  https://storage.googleapis.com/kaggle-competitions-data/kaggle-v2/16880/858837/compressed/test_videos/aassnaulhq.mp4.zip?GoogleAccessId=web-data@kaggle-161607.iam.gserviceaccount.com&Expires=1585797525&Signature=XuoQhHRpR%2F46UJq%2B7XjXgiEoWyusqoyd6g%2BzAUb74CKLzKeSOvRVzkG4pUje5MhPxLlmRgWdyOpDLnHtSPiAQ6emGYKITa6mmXbuNqIW85O8dmZeIJEfUqDbQ%2FjdWcHAbS3bEtXcxCumvFAz%2FN1wi3nfe2fvzgL2yQY4YaWy7E7fEjDds8fPPDskEC1OAOeDJCYTTk2ce%2BfrSO8iOv%2F4Cdgcx99L4gbiNuNlJ7%2BP3RXu%2FfdukLVZO3jsqCiecFeU52Mb8OMybrLYNRkjabBK3CLZKU8Yv%2BDAniPDj%2F7q%2B7D4xkEDKaHOi4aUjxKD2gHDpkpbJkjbK7nXxZwKWo69mg%3D%3D&response-content-disposition=attachment%3B+filename%3Daassnaulhq.mp4.zip\n",
      "Resolving storage.googleapis.com (storage.googleapis.com)... 172.217.15.80, 2607:f8b0:4004:c08::80\n",
      "Connecting to storage.googleapis.com (storage.googleapis.com)|172.217.15.80|:443... connected.\n",
      "HTTP request sent, awaiting response... 200 OK\n",
      "Length: 6982520 (6.7M) [application/zip]\n",
      "Saving to: ‘/home/ec2-user/SageMaker/ebs/deepfake-sample-test/aassnaulhq.mp4.zip’\n",
      "\n",
      "/home/ec2-user/Sage 100%[===================>]   6.66M  --.-KB/s    in 0.1s    \n",
      "\n",
      "2020-03-30 03:18:45 (45.3 MB/s) - ‘/home/ec2-user/SageMaker/ebs/deepfake-sample-test/aassnaulhq.mp4.zip’ saved [6982520/6982520]\n",
      "\n"
     ]
    }
   ],
   "source": [
    "# Verify your setup with this little cell. Just pulls a single sample MP4\n",
    "# file into your DATA_LAKE, unzips it and then removes the archive file.\n",
    "\n",
    "zipname = 'aassnaulhq.mp4.zip'\n",
    "url = ('https://www.kaggle.com/c/deepfake-detection-challenge/download/'\n",
    "       'Z1QcG4KHiVQaMucH9dng%2Fversions%2FvI13Sc4R0yAI121wogYv%2F'\n",
    "       'directories%2Ftest_videos%2Ffiles%2Faassnaulhq.mp4')\n",
    "\n",
    "!wget --load-cookies '{cookies_txt}' -O '{data_lake}/{zipname}' '{url}'\n",
    "!unzip -q '{data_lake}/{zipname}' -d '{data_lake}'\n",
    "!rm '{data_lake}/{zipname}'"
   ]
  },
  {
   "cell_type": "code",
   "execution_count": 8,
   "metadata": {},
   "outputs": [
    {
     "name": "stdout",
     "output_type": "stream",
     "text": [
      "--2020-03-28 04:32:36--  https://www.kaggle.com/c/16880/datadownload/dfdc_train_all.zip\n",
      "Resolving www.kaggle.com (www.kaggle.com)... 35.244.233.98\n",
      "Connecting to www.kaggle.com (www.kaggle.com)|35.244.233.98|:443... connected.\n",
      "HTTP request sent, awaiting response... 302 Found\n",
      "Location: https://storage.googleapis.com/kaggle-competitions-detached-data/16880/dfdc_train_all.zip?GoogleAccessId=web-data@kaggle-161607.iam.gserviceaccount.com&Expires=1585629156&Signature=WqItMzXRm4Xq4IoIy1IzUxdZBCGwO5TgTjKoAW75sFDiXosu4xUih0nxJGAzO7DDrKHL5F9nIBJsEdeAQVm3ooJ5fft4HTdgqY8Z2AiBUstsBF4KPnIYZJQOGnXxedScGlqBXUhURCO57snrSYj9QT%2FsNCqDl1tqMSTmyGYyjpDYsh%2BjnlS6tZmp8K7v9VrYzO39wJ%2FWUDQDNDpxM5wGLXY58MMkH1DKYHHo8BEMlPscg8DEnZGQqHf%2FVhw7r0pzGcP%2BpWRPiK%2BbemOXfj1vDv%2FwBQ4oFoYA7kGcuRgoJiOMyCciaY1C%2BFtx8VfVNn9vKrLt%2BKVxxtwOGPBGk%2Fdsqw%3D%3D [following]\n",
      "--2020-03-28 04:32:36--  https://storage.googleapis.com/kaggle-competitions-detached-data/16880/dfdc_train_all.zip?GoogleAccessId=web-data@kaggle-161607.iam.gserviceaccount.com&Expires=1585629156&Signature=WqItMzXRm4Xq4IoIy1IzUxdZBCGwO5TgTjKoAW75sFDiXosu4xUih0nxJGAzO7DDrKHL5F9nIBJsEdeAQVm3ooJ5fft4HTdgqY8Z2AiBUstsBF4KPnIYZJQOGnXxedScGlqBXUhURCO57snrSYj9QT%2FsNCqDl1tqMSTmyGYyjpDYsh%2BjnlS6tZmp8K7v9VrYzO39wJ%2FWUDQDNDpxM5wGLXY58MMkH1DKYHHo8BEMlPscg8DEnZGQqHf%2FVhw7r0pzGcP%2BpWRPiK%2BbemOXfj1vDv%2FwBQ4oFoYA7kGcuRgoJiOMyCciaY1C%2BFtx8VfVNn9vKrLt%2BKVxxtwOGPBGk%2Fdsqw%3D%3D\n",
      "Resolving storage.googleapis.com (storage.googleapis.com)... 172.217.15.80, 2607:f8b0:4004:814::2010\n",
      "Connecting to storage.googleapis.com (storage.googleapis.com)|172.217.15.80|:443... connected.\n",
      "HTTP request sent, awaiting response... 200 OK\n",
      "Length: 506637507038 (472G) [application/zip]\n",
      "Saving to: ‘/home/ec2-user/SageMaker/ebs/deepfake-detect-datalake/dfdc_train_all.zip’\n",
      "\n",
      "/home/ec2-user/Sage 100%[===================>] 471.84G  97.0MB/s    in 47m 46s \n",
      "\n",
      "2020-03-28 05:20:23 (169 MB/s) - ‘/home/ec2-user/SageMaker/ebs/deepfake-detect-datalake/dfdc_train_all.zip’ saved [506637507038/506637507038]\n",
      "\n"
     ]
    }
   ],
   "source": [
    "def download_kaggle_huge_zip():\n",
    "    zipname = f'dfdc_train_all.zip'\n",
    "    url = f'https://www.kaggle.com/c/16880/datadownload/{zipname}'\n",
    "    !wget --load-cookies '{cookies_txt}' -O '{data_lake}/{zipname}' '{url}'\n",
    "    !unzip -q '{data_lake}/{zipname}' -d '{data_lake}'\n",
    "    !rm '{data_lake}/{zipname}'\n",
    "\n",
    "download_kaggle_huge_zip()"
   ]
  },
  {
   "cell_type": "code",
   "execution_count": 5,
   "metadata": {},
   "outputs": [
    {
     "name": "stdout",
     "output_type": "stream",
     "text": [
      "--2020-03-30 03:25:16--  https://www.kaggle.com/c/16880/download-all\n",
      "Resolving www.kaggle.com (www.kaggle.com)... 35.244.233.98\n",
      "Connecting to www.kaggle.com (www.kaggle.com)|35.244.233.98|:443... connected.\n",
      "HTTP request sent, awaiting response... 302 Found\n",
      "Location: https://storage.googleapis.com/kaggle-competitions-data/kaggle-v2/16880/858837/bundle/archive.zip?GoogleAccessId=web-data@kaggle-161607.iam.gserviceaccount.com&Expires=1585797917&Signature=R4qymGa6dLQJ4qkr44utCZ7GWyfWgPs5bCQZp4yWdpG8iJXLui1G8RjEDj%2FHCUKSpCfi1BZkMS5aFq%2FiMagNb8%2BLLqdO9SUsOMK3BAg3%2Boeu77lC%2FIiMcF2U%2BuhHRVDOgpvWUZG%2BVRGGaTpMdd2FpbVYoHP4YbMKEb8IBm6FIQ1tK2J0mXIkaIDH%2BsJGRZhSkBCzmM15U63dm5xbD9%2FXtCdlJaQQfhuMF4jc81a%2BKcGM8bU4rgmEcpXF1kv%2BuyrcDFsXUG2xlWLdg00tL7639YqsIiyqsjmRLrZs9HfKjzgFZyYmt%2FWtrBmR0EKVOHrjsIjJHO8wSfeoaI4bIVZRNQ%3D%3D&response-content-disposition=attachment%3B+filename%3Ddeepfake-detection-challenge.zip [following]\n",
      "--2020-03-30 03:25:17--  https://storage.googleapis.com/kaggle-competitions-data/kaggle-v2/16880/858837/bundle/archive.zip?GoogleAccessId=web-data@kaggle-161607.iam.gserviceaccount.com&Expires=1585797917&Signature=R4qymGa6dLQJ4qkr44utCZ7GWyfWgPs5bCQZp4yWdpG8iJXLui1G8RjEDj%2FHCUKSpCfi1BZkMS5aFq%2FiMagNb8%2BLLqdO9SUsOMK3BAg3%2Boeu77lC%2FIiMcF2U%2BuhHRVDOgpvWUZG%2BVRGGaTpMdd2FpbVYoHP4YbMKEb8IBm6FIQ1tK2J0mXIkaIDH%2BsJGRZhSkBCzmM15U63dm5xbD9%2FXtCdlJaQQfhuMF4jc81a%2BKcGM8bU4rgmEcpXF1kv%2BuyrcDFsXUG2xlWLdg00tL7639YqsIiyqsjmRLrZs9HfKjzgFZyYmt%2FWtrBmR0EKVOHrjsIjJHO8wSfeoaI4bIVZRNQ%3D%3D&response-content-disposition=attachment%3B+filename%3Ddeepfake-detection-challenge.zip\n",
      "Resolving storage.googleapis.com (storage.googleapis.com)... 172.217.12.240, 2607:f8b0:4004:c08::80\n",
      "Connecting to storage.googleapis.com (storage.googleapis.com)|172.217.12.240|:443... connected.\n",
      "HTTP request sent, awaiting response... 200 OK\n",
      "Length: 4439352219 (4.1G) [application/zip]\n",
      "Saving to: ‘/home/ec2-user/SageMaker/ebs/deepfake-sample-test/deepfake-detect.zip’\n",
      "\n",
      "/home/ec2-user/Sage 100%[===================>]   4.13G   115MB/s    in 67s     \n",
      "\n",
      "2020-03-30 03:26:23 (63.5 MB/s) - ‘/home/ec2-user/SageMaker/ebs/deepfake-sample-test/deepfake-detect.zip’ saved [4439352219/4439352219]\n",
      "\n"
     ]
    }
   ],
   "source": [
    "def download_kaggle_test_zip():\n",
    "    zipname = f'deepfake-detect.zip'\n",
    "    url = 'https://www.kaggle.com/c/16880/download-all'\n",
    "    !wget --load-cookies '{cookies_txt}' -O '{data_lake}/{zipname}' '{url}'\n",
    "    !unzip -q '{data_lake}/{zipname}' -d '{data_lake}'\n",
    "    !rm '{data_lake}/{zipname}'\n",
    "\n",
    "download_kaggle_test_zip()\n",
    "\n"
   ]
  },
  {
   "cell_type": "code",
   "execution_count": 17,
   "metadata": {},
   "outputs": [],
   "source": [
    "%%bash\n",
    "\n",
    "data_lake=/home/ec2-user/SageMaker/ebs/deepfake-detect-datalake\n",
    "\n",
    "for zipname in $data_lake/*.zip; do\n",
    "    unzip -q $zipname -d $data_lake &\n",
    "done\n",
    "\n",
    "#}"
   ]
  },
  {
   "cell_type": "code",
   "execution_count": null,
   "metadata": {},
   "outputs": [],
   "source": [
    "# Download and extract (all 50) deepfake video file partitions.\n",
    "# Note: kaggle urls and filenames are effectively hardcoded.\n",
    "\n",
    "# Can set istart and istop (same indexing as range fcn) to pull a\n",
    "# subsets of the partitions if something goes wrong in the middle.\n",
    "def download_kaggle_data(istart=50, istop=None):\n",
    "#{\n",
    "    if istop is None: \n",
    "        istart, istop = 0, istart\n",
    "        \n",
    "    for i in range(istart, istop):\n",
    "        zipname = f'dfdc_train_part_{i:02d}.zip'\n",
    "        url = f'https://www.kaggle.com/c/16880/datadownload/{zipname}'\n",
    "        !wget --load-cookies '{cookies_txt}' -O '{data_lake}/{zipname}' '{url}'\n",
    "        !unzip -q '{data_lake}/{zipname}' -d '{data_lake}'\n",
    "        !rm '{data_lake}/{zipname}'\n",
    "#}\n",
    "\n",
    "# NOTE: uncomment this line to download all partitions\n",
    "download_kaggle_data()\n",
    "\n",
    "# These two partitions, 18 and 35, are slightly incomplete relative to \n",
    "# metadata files, but re-downloading then did not correct the issue.\n",
    "# download_kaggle_data(18, 19)\n",
    "# download_kaggle_data(35, 36)"
   ]
  },
  {
   "cell_type": "code",
   "execution_count": null,
   "metadata": {},
   "outputs": [],
   "source": []
  }
 ],
 "metadata": {
  "kernelspec": {
   "display_name": "conda_deepfake",
   "language": "python",
   "name": "deepfake"
  },
  "language_info": {
   "codemirror_mode": {
    "name": "ipython",
    "version": 3
   },
   "file_extension": ".py",
   "mimetype": "text/x-python",
   "name": "python",
   "nbconvert_exporter": "python",
   "pygments_lexer": "ipython3",
   "version": "3.7.6"
  }
 },
 "nbformat": 4,
 "nbformat_minor": 4
}
