{
 "cells": [
  {
   "cell_type": "code",
   "execution_count": null,
   "metadata": {},
   "outputs": [],
   "source": [
    "import sys\n",
    "\n",
    "# For managing relative imports from notebook\n",
    "if '..' not in sys.path: sys.path.append('..')\n",
    "\n",
    "import config.config as dfc\n",
    "import deepfake.dfutillib as df"
   ]
  },
  {
   "cell_type": "markdown",
   "metadata": {},
   "source": [
    "# Dataset Downloader\n",
    "\n",
    "This Notebook is just for downloading the full dataset off of the kaggle website. You can do this by hand from your browser  \n",
    "locally, I really wrote it for AWS to pull directly onto an EC2 or Sagemaker instance (but works for local machine too). \n",
    "\n",
    "This uses **wget** and requires a **cookies.txt** file (stoopid kaggle CLI wouldn't work for the real deal dataset of this  \n",
    "competition, and I couldn't get requests to work either because there's an authentication step, it's not fully public URIs).\n",
    "\n",
    "To get the cookies.txt file: login to the kaggle site (you'll probably need to join the competition too), then use this Chrome  \n",
    "plugin to save the cookies.txt file: https://chrome.google.com/webstore/detail/cookiestxt/njabckikapfpffapmjgojcnbfjonfjfg?hl=en\n",
    "\n",
    "**TODO:** will probably need to write code in here to push the dataset to S3 after download, unless just parking it on the  \n",
    "EC2/Sagemaker disk ends up being cost effective enough or necessary for efficient enough training."
   ]
  },
  {
   "cell_type": "code",
   "execution_count": null,
   "metadata": {},
   "outputs": [],
   "source": [
    "# NOTE: notebook requires appropriate setup of deepfake.config \n",
    "# Be prepared for 500GB to get downloaded into your DATA_LAKE\n",
    "# (and you'll prob need another 500GB there to preprocess \n",
    "# it all too, but that doesn't happen from this notebook).\n",
    "\n",
    "data_lake, cookies_txt = dfc.DATA_LAKE, dfc.COOKIES_TXT\n",
    "assert df.file_exists(cookies_txt), f\"Cookies file: {cookies_txt} does not exist.\""
   ]
  },
  {
   "cell_type": "code",
   "execution_count": null,
   "metadata": {},
   "outputs": [],
   "source": [
    "# Verify your setup with this little cell. Just pulls a single sample MP4\n",
    "# file into your DATA_LAKE, unzips it and then removes the archive file.\n",
    "\n",
    "zipname = 'aassnaulhq.mp4.zip'\n",
    "url = ('https://www.kaggle.com/c/deepfake-detection-challenge/download/'\n",
    "       'Z1QcG4KHiVQaMucH9dng%2Fversions%2FvI13Sc4R0yAI121wogYv%2F'\n",
    "       'directories%2Ftest_videos%2Ffiles%2Faassnaulhq.mp4')\n",
    "\n",
    "!wget --load-cookies '{cookies_txt}' -O '{data_lake}/{zipname}' '{url}'\n",
    "!unzip -q '{data_lake}/{zipname}' -d '{data_lake}' \n",
    "!rm '{data_lake}/{zipname}'\n"
   ]
  },
  {
   "cell_type": "code",
   "execution_count": null,
   "metadata": {},
   "outputs": [],
   "source": [
    "# Download and extract (all 50) deepfake video file partitions.\n",
    "# Note: kaggle urls and filenames are effectively hardcoded.\n",
    "\n",
    "# Can set istart and istop (same indexing as range fcn) to pull a\n",
    "# subsets of the partitions if something goes wrong in the middle.\n",
    "def download_kaggle_data(istart=50, istop=None):\n",
    "#{\n",
    "    if istop is None: \n",
    "        istart, istop = 0, istart\n",
    "        \n",
    "    for i in range(istart, istop):\n",
    "        zipname = f'dfdc_train_part_{i:02d}.zip'\n",
    "        url = f'https://www.kaggle.com/c/16880/datadownload/{zipname}'\n",
    "        !wget --load-cookies '{cookies_txt}' -O '{data_lake}/{zipname}' '{url}'\n",
    "        !unzip -q '{data_lake}/{zipname}' -d '{data_lake}'\n",
    "        !rm '{data_lake}/{zipname}'\n",
    "#}\n",
    "\n",
    "# NOTE: uncomment this line to download all partitions\n",
    "# download_kaggle_data()\n",
    "\n",
    "# These two partitions, 18 and 35, are slightly incomplete relative to \n",
    "# metadata files, but re-downloading then did not correct the issue.\n",
    "# download_kaggle_data(18, 19)\n",
    "# download_kaggle_data(35, 36)"
   ]
  },
  {
   "cell_type": "code",
   "execution_count": null,
   "metadata": {},
   "outputs": [],
   "source": []
  }
 ],
 "metadata": {
  "kernelspec": {
   "display_name": "Python 3",
   "language": "python",
   "name": "python3"
  },
  "language_info": {
   "codemirror_mode": {
    "name": "ipython",
    "version": 3
   },
   "file_extension": ".py",
   "mimetype": "text/x-python",
   "name": "python",
   "nbconvert_exporter": "python",
   "pygments_lexer": "ipython3",
   "version": "3.7.6"
  }
 },
 "nbformat": 4,
 "nbformat_minor": 4
}
