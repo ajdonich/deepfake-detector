{
 "cells": [
  {
   "cell_type": "code",
   "execution_count": 1,
   "metadata": {},
   "outputs": [],
   "source": [
    "%load_ext autoreload\n",
    "%autoreload 2\n",
    "\n",
    "import sys\n",
    "\n",
    "# For managing relative imports from notebook\n",
    "if '..' not in sys.path: sys.path.append('..')\n",
    "\n",
    "import config.config as dfc\n",
    "import deepfake.dfutillib as df"
   ]
  },
  {
   "cell_type": "markdown",
   "metadata": {},
   "source": [
    "# Dataset Downloader\n",
    "\n",
    "This Notebook is just for downloading the full dataset off of the kaggle website. You can do this by hand from your browser  \n",
    "locally, I really wrote it for AWS to pull directly onto an EC2 or Sagemaker instance (but works for local machine too). \n",
    "\n",
    "This uses **wget** and requires a **cookies.txt** file (stoopid kaggle CLI wouldn't work for the real deal dataset of this  \n",
    "competition, and I couldn't get requests to work either because there's an authentication step, it's not fully public URIs).\n",
    "\n",
    "To get the cookies.txt file: login to the kaggle site (you'll probably need to join the competition too), then use this Chrome  \n",
    "plugin to save the cookies.txt file: https://chrome.google.com/webstore/detail/cookiestxt/njabckikapfpffapmjgojcnbfjonfjfg?hl=en\n",
    "\n",
    "**TODO:** will probably need to write code in here to push the dataset to S3 after download, unless just parking it on the  \n",
    "EC2/Sagemaker disk ends up being cost effective enough or necessary for efficient enough training."
   ]
  },
  {
   "cell_type": "code",
   "execution_count": 2,
   "metadata": {},
   "outputs": [],
   "source": [
    "# NOTE: notebook requires appropriate setup of deepfake.config \n",
    "# Be prepared for 500GB to get downloaded into your DATA_LAKE\n",
    "# (and you'll prob need another 500GB there to preprocess \n",
    "# it all too, but that doesn't happen from this notebook).\n",
    "\n",
    "data_lake, cookies_txt = dfc.DATA_LAKE, dfc.COOKIES_TXT\n",
    "assert df.file_exists(cookies_txt), f\"Cookies file: {cookies_txt} does not exist.\""
   ]
  },
  {
   "cell_type": "code",
   "execution_count": 3,
   "metadata": {},
   "outputs": [
    {
     "name": "stdout",
     "output_type": "stream",
     "text": [
      "/home/ec2-user/SageMaker/efs/deepfake-detect-datalake\n"
     ]
    }
   ],
   "source": [
    "print(data_lake)"
   ]
  },
  {
   "cell_type": "code",
   "execution_count": 4,
   "metadata": {},
   "outputs": [
    {
     "name": "stdout",
     "output_type": "stream",
     "text": [
      "--2020-03-23 22:55:09--  https://www.kaggle.com/c/deepfake-detection-challenge/download/Z1QcG4KHiVQaMucH9dng%2Fversions%2FvI13Sc4R0yAI121wogYv%2Fdirectories%2Ftest_videos%2Ffiles%2Faassnaulhq.mp4\n",
      "Resolving www.kaggle.com... 35.244.233.98\n",
      "Connecting to www.kaggle.com|35.244.233.98|:443... connected.\n",
      "HTTP request sent, awaiting response... 302 Found\n",
      "Location: https://storage.googleapis.com/kaggle-competitions-data/kaggle-v2/16880/858837/compressed/test_videos/aassnaulhq.mp4.zip?GoogleAccessId=web-data@kaggle-161607.iam.gserviceaccount.com&Expires=1585263309&Signature=kqleXNHMRa2X5yAnwl5jVIRCzkvCrADpHCN74Q0RZr%2FTfF%2FHGFFWH3ShjBXlQGxnQI3Y9f8O3Zl6Ot%2BMg0xekOzcafxUf6dSQvhtLO3oek0KTu07UC%2Ben%2BndaXcUKuf7tTcQCMpsvNB86I2Ze%2Bmqj1%2BKzCUBrnTCX2VCJ2EKRaIo%2Fic5CFECXd6%2BudY59PJC7D9OeBAY4z5AT4EiG9ri4ZINODdtXDdaRgePbKWnnnKKGgFeLy33QGSi3vo%2FlgK5nyVsWvb1DpJDJ6Ze8iX0L09nsnBPbSEuiNx4alREu%2FdMa7OiWVNTr6FjTHk7fGXLZpw2XV2jUzS2X9DqvK9ZfQ%3D%3D&response-content-disposition=attachment%3B+filename%3Daassnaulhq.mp4.zip [following]\n",
      "--2020-03-23 22:55:09--  https://storage.googleapis.com/kaggle-competitions-data/kaggle-v2/16880/858837/compressed/test_videos/aassnaulhq.mp4.zip?GoogleAccessId=web-data@kaggle-161607.iam.gserviceaccount.com&Expires=1585263309&Signature=kqleXNHMRa2X5yAnwl5jVIRCzkvCrADpHCN74Q0RZr%2FTfF%2FHGFFWH3ShjBXlQGxnQI3Y9f8O3Zl6Ot%2BMg0xekOzcafxUf6dSQvhtLO3oek0KTu07UC%2Ben%2BndaXcUKuf7tTcQCMpsvNB86I2Ze%2Bmqj1%2BKzCUBrnTCX2VCJ2EKRaIo%2Fic5CFECXd6%2BudY59PJC7D9OeBAY4z5AT4EiG9ri4ZINODdtXDdaRgePbKWnnnKKGgFeLy33QGSi3vo%2FlgK5nyVsWvb1DpJDJ6Ze8iX0L09nsnBPbSEuiNx4alREu%2FdMa7OiWVNTr6FjTHk7fGXLZpw2XV2jUzS2X9DqvK9ZfQ%3D%3D&response-content-disposition=attachment%3B+filename%3Daassnaulhq.mp4.zip\n",
      "Resolving storage.googleapis.com... 74.125.142.128, 2607:f8b0:400e:c09::80\n",
      "Connecting to storage.googleapis.com|74.125.142.128|:443... connected.\n",
      "HTTP request sent, awaiting response... 200 OK\n",
      "Length: 6982520 (6.7M) [application/zip]\n",
      "Saving to: ‘/home/ec2-user/SageMaker/efs/deepfake-detect-datalake/aassnaulhq.mp4.zip’\n",
      "\n",
      "/home/ec2-user/Sage 100%[===================>]   6.66M  36.0MB/s    in 0.2s    \n",
      "\n",
      "2020-03-23 22:55:10 (36.0 MB/s) - ‘/home/ec2-user/SageMaker/efs/deepfake-detect-datalake/aassnaulhq.mp4.zip’ saved [6982520/6982520]\n",
      "\n"
     ]
    }
   ],
   "source": [
    "# Verify your setup with this little cell. Just pulls a single sample MP4\n",
    "# file into your DATA_LAKE, unzips it and then removes the archive file.\n",
    "\n",
    "zipname = 'aassnaulhq.mp4.zip'\n",
    "url = ('https://www.kaggle.com/c/deepfake-detection-challenge/download/'\n",
    "       'Z1QcG4KHiVQaMucH9dng%2Fversions%2FvI13Sc4R0yAI121wogYv%2F'\n",
    "       'directories%2Ftest_videos%2Ffiles%2Faassnaulhq.mp4')\n",
    "\n",
    "!wget --load-cookies '{cookies_txt}' -O '{data_lake}/{zipname}' '{url}'\n",
    "!unzip -q '{data_lake}/{zipname}' -d '{data_lake}' \n",
    "!rm '{data_lake}/{zipname}'\n"
   ]
  },
  {
   "cell_type": "code",
   "execution_count": null,
   "metadata": {},
   "outputs": [
    {
     "name": "stdout",
     "output_type": "stream",
     "text": [
      "--2020-03-23 22:56:40--  https://www.kaggle.com/c/16880/datadownload/dfdc_train_part_00.zip\n",
      "Resolving www.kaggle.com... 35.244.233.98\n",
      "Connecting to www.kaggle.com|35.244.233.98|:443... connected.\n",
      "HTTP request sent, awaiting response... 302 Found\n",
      "Location: https://storage.googleapis.com/kaggle-competitions-detached-data/16880/dfdc_train_part_00.zip?GoogleAccessId=web-data@kaggle-161607.iam.gserviceaccount.com&Expires=1585263400&Signature=qXnEz8tQvJw6n9lUHZ9%2FdwMw0KdhSdV5aBe7pGr%2BUmSlsKDSV7PiOdLWFvgLINuMXd3uE0l99Th1sYric%2F3km2ZW8hIFks9J1PkuvBwGwOchQUFgDQKf27V%2F%2FA9VFFJ2BBmtVp0qj16L6zRQ7rIs6rD2AoS6Y5%2Fc0wHTGpC6FPll%2BUKscr7qF4EvxHU6cqMvc2mWbgffTd9aa7gwtyiC1SlXFttYtf%2BuL4dDFuqfsKfb2Q3oLWykIEWRc2Ry1bPWaf17aB5D7ZmyUkyVBUU1uhSO8dWKZ4Uq9xKIUzxgMFhSNn3F62mlhpBmsMsFNR%2F6m2vQvlbiMK437xad0RSumQ%3D%3D [following]\n",
      "--2020-03-23 22:56:40--  https://storage.googleapis.com/kaggle-competitions-detached-data/16880/dfdc_train_part_00.zip?GoogleAccessId=web-data@kaggle-161607.iam.gserviceaccount.com&Expires=1585263400&Signature=qXnEz8tQvJw6n9lUHZ9%2FdwMw0KdhSdV5aBe7pGr%2BUmSlsKDSV7PiOdLWFvgLINuMXd3uE0l99Th1sYric%2F3km2ZW8hIFks9J1PkuvBwGwOchQUFgDQKf27V%2F%2FA9VFFJ2BBmtVp0qj16L6zRQ7rIs6rD2AoS6Y5%2Fc0wHTGpC6FPll%2BUKscr7qF4EvxHU6cqMvc2mWbgffTd9aa7gwtyiC1SlXFttYtf%2BuL4dDFuqfsKfb2Q3oLWykIEWRc2Ry1bPWaf17aB5D7ZmyUkyVBUU1uhSO8dWKZ4Uq9xKIUzxgMFhSNn3F62mlhpBmsMsFNR%2F6m2vQvlbiMK437xad0RSumQ%3D%3D\n",
      "Resolving storage.googleapis.com... 74.125.142.128, 2607:f8b0:400e:c09::80\n",
      "Connecting to storage.googleapis.com|74.125.142.128|:443... connected.\n",
      "HTTP request sent, awaiting response... 200 OK\n",
      "Length: 12371243054 (12G) [application/zip]\n",
      "Saving to: ‘/home/ec2-user/SageMaker/efs/deepfake-detect-datalake/dfdc_train_part_00.zip’\n",
      "\n",
      "/home/ec2-user/Sage 100%[===================>]  11.52G  72.2MB/s    in 2m 37s  \n",
      "\n",
      "2020-03-23 22:59:17 (75.1 MB/s) - ‘/home/ec2-user/SageMaker/efs/deepfake-detect-datalake/dfdc_train_part_00.zip’ saved [12371243054/12371243054]\n",
      "\n",
      "--2020-03-23 23:05:56--  https://www.kaggle.com/c/16880/datadownload/dfdc_train_part_01.zip\n",
      "Resolving www.kaggle.com... 35.244.233.98\n",
      "Connecting to www.kaggle.com|35.244.233.98|:443... connected.\n",
      "HTTP request sent, awaiting response... 302 Found\n",
      "Location: https://storage.googleapis.com/kaggle-competitions-detached-data/16880/dfdc_train_part_01.zip?GoogleAccessId=web-data@kaggle-161607.iam.gserviceaccount.com&Expires=1585263956&Signature=AmCVOVt0EKjJyQ0Gfta%2Bd2H89qGXql14lYhDLJHDAPbSBy9QrioULh5hvK1uq4hK3qikqmJQ2w797dM8QK9dJvkTv2HmRVayypyTtlwIpOwg4brgd7fh5qc1StnnFkJ35%2B3LEPlEIrPvgXWjOeZXiMbwJj4%2BChNyiqW4bM%2FH81CEHzvUIB3cqFnWLv2lNOog%2FTD1O9DO0MSGM32K4IjGeLIrrDwPmITk0oWl8SKmMMUDKoiq8%2B8Vwn5TDvgH%2Bm8DWEpQbU82STELkbCbjvrRjW1issbcup8pok7hi0lV5lBjGT03V1Zb47u%2BWy3smshUu7GfnPykjcHKF%2Bw%2FjMAzAg%3D%3D [following]\n",
      "--2020-03-23 23:05:56--  https://storage.googleapis.com/kaggle-competitions-detached-data/16880/dfdc_train_part_01.zip?GoogleAccessId=web-data@kaggle-161607.iam.gserviceaccount.com&Expires=1585263956&Signature=AmCVOVt0EKjJyQ0Gfta%2Bd2H89qGXql14lYhDLJHDAPbSBy9QrioULh5hvK1uq4hK3qikqmJQ2w797dM8QK9dJvkTv2HmRVayypyTtlwIpOwg4brgd7fh5qc1StnnFkJ35%2B3LEPlEIrPvgXWjOeZXiMbwJj4%2BChNyiqW4bM%2FH81CEHzvUIB3cqFnWLv2lNOog%2FTD1O9DO0MSGM32K4IjGeLIrrDwPmITk0oWl8SKmMMUDKoiq8%2B8Vwn5TDvgH%2Bm8DWEpQbU82STELkbCbjvrRjW1issbcup8pok7hi0lV5lBjGT03V1Zb47u%2BWy3smshUu7GfnPykjcHKF%2Bw%2FjMAzAg%3D%3D\n",
      "Resolving storage.googleapis.com... 74.125.142.128, 2607:f8b0:400e:c07::80\n",
      "Connecting to storage.googleapis.com|74.125.142.128|:443... connected.\n",
      "HTTP request sent, awaiting response... 200 OK\n",
      "Length: 10099027633 (9.4G) [application/zip]\n",
      "Saving to: ‘/home/ec2-user/SageMaker/efs/deepfake-detect-datalake/dfdc_train_part_01.zip’\n",
      "\n",
      "/home/ec2-user/Sage 100%[===================>]   9.41G  95.9MB/s    in 1m 52s  \n",
      "\n",
      "2020-03-23 23:07:49 (85.8 MB/s) - ‘/home/ec2-user/SageMaker/efs/deepfake-detect-datalake/dfdc_train_part_01.zip’ saved [10099027633/10099027633]\n",
      "\n",
      "--2020-03-23 23:13:57--  https://www.kaggle.com/c/16880/datadownload/dfdc_train_part_02.zip\n",
      "Resolving www.kaggle.com... 35.244.233.98\n",
      "Connecting to www.kaggle.com|35.244.233.98|:443... connected.\n",
      "HTTP request sent, awaiting response... 302 Found\n",
      "Location: https://storage.googleapis.com/kaggle-competitions-detached-data/16880/dfdc_train_part_02.zip?GoogleAccessId=web-data@kaggle-161607.iam.gserviceaccount.com&Expires=1585264437&Signature=nz2UL1UPSy8M0jUOZoe191i1atuBylIdhMFuFOpU%2FkEi5OMI1mOiRgkBZw1hjPjeiPv6zYaDwq7ZN0pF2Eho%2B6m4e8Toj4QR87tD7i%2BVJJ5KCu3eph9k76PdndqEzkR5IgRHGjxojfPot7f1vMGuFjOyqdOuJq8Tz8iE%2Bp%2B9GyrpGsHz7pcNK0BPqFsg%2B7plFjilBmpDAweAhNsuseYq5kTi%2BJLGSUu2Uj6oH2zBF0fcSBwnxS1LjFSrTM1D6UT%2FSkswDUBe0XOFurIErNDfQ0n%2Fqzby5kUpR2FHYxNEF%2BgAUhUTT8jaz5mhPjKuhPmJ6ZFNJXKPQleKgiKMXrm5Zg%3D%3D [following]\n",
      "--2020-03-23 23:13:57--  https://storage.googleapis.com/kaggle-competitions-detached-data/16880/dfdc_train_part_02.zip?GoogleAccessId=web-data@kaggle-161607.iam.gserviceaccount.com&Expires=1585264437&Signature=nz2UL1UPSy8M0jUOZoe191i1atuBylIdhMFuFOpU%2FkEi5OMI1mOiRgkBZw1hjPjeiPv6zYaDwq7ZN0pF2Eho%2B6m4e8Toj4QR87tD7i%2BVJJ5KCu3eph9k76PdndqEzkR5IgRHGjxojfPot7f1vMGuFjOyqdOuJq8Tz8iE%2Bp%2B9GyrpGsHz7pcNK0BPqFsg%2B7plFjilBmpDAweAhNsuseYq5kTi%2BJLGSUu2Uj6oH2zBF0fcSBwnxS1LjFSrTM1D6UT%2FSkswDUBe0XOFurIErNDfQ0n%2Fqzby5kUpR2FHYxNEF%2BgAUhUTT8jaz5mhPjKuhPmJ6ZFNJXKPQleKgiKMXrm5Zg%3D%3D\n",
      "Resolving storage.googleapis.com... 74.125.142.128, 2607:f8b0:400e:c08::80\n",
      "Connecting to storage.googleapis.com|74.125.142.128|:443... connected.\n",
      "HTTP request sent, awaiting response... 200 OK\n",
      "Length: 10162115552 (9.5G) [application/zip]\n",
      "Saving to: ‘/home/ec2-user/SageMaker/efs/deepfake-detect-datalake/dfdc_train_part_02.zip’\n",
      "\n",
      "/home/ec2-user/Sage 100%[===================>]   9.46G  73.2MB/s    in 2m 9s   \n",
      "\n",
      "2020-03-23 23:16:06 (75.3 MB/s) - ‘/home/ec2-user/SageMaker/efs/deepfake-detect-datalake/dfdc_train_part_02.zip’ saved [10162115552/10162115552]\n",
      "\n",
      "--2020-03-23 23:22:19--  https://www.kaggle.com/c/16880/datadownload/dfdc_train_part_03.zip\n",
      "Resolving www.kaggle.com... 35.244.233.98\n",
      "Connecting to www.kaggle.com|35.244.233.98|:443... connected.\n",
      "HTTP request sent, awaiting response... 302 Found\n",
      "Location: https://storage.googleapis.com/kaggle-competitions-detached-data/16880/dfdc_train_part_03.zip?GoogleAccessId=web-data@kaggle-161607.iam.gserviceaccount.com&Expires=1585264939&Signature=TmENkfUsEXvIw5iDBrip6%2FhVwnCy33cREYqdNJXiidX%2Be59t1B%2FzAFpd9aKgvTNlmalLm7ZYR0H3UapzR1YKL1GIVFzAURJ3W%2FRmbhqgvKlFh5gDmFKo0aNmCtPYB42XwnOQ%2Fqw3HIiGFiBCA9y%2BrPkkvNUYXByGbF4Hi2OfWU41k%2FmgGhX7S1ZFCYHYimgXFqA%2FRqjhDy6ZeG8Nr1Yh1NiUY8tSMMPjEAWJUuAWIRQPj3R3OxFGLCape6WCprw8dlyyWGDTXpc2fgiNzx1E96tEwSK%2BySAGjMxygPwSGwf1LkmMfc2IntaVNzkzpmOF8JVm8I6g5yb%2B8Rj9cnAxWQ%3D%3D [following]\n",
      "--2020-03-23 23:22:19--  https://storage.googleapis.com/kaggle-competitions-detached-data/16880/dfdc_train_part_03.zip?GoogleAccessId=web-data@kaggle-161607.iam.gserviceaccount.com&Expires=1585264939&Signature=TmENkfUsEXvIw5iDBrip6%2FhVwnCy33cREYqdNJXiidX%2Be59t1B%2FzAFpd9aKgvTNlmalLm7ZYR0H3UapzR1YKL1GIVFzAURJ3W%2FRmbhqgvKlFh5gDmFKo0aNmCtPYB42XwnOQ%2Fqw3HIiGFiBCA9y%2BrPkkvNUYXByGbF4Hi2OfWU41k%2FmgGhX7S1ZFCYHYimgXFqA%2FRqjhDy6ZeG8Nr1Yh1NiUY8tSMMPjEAWJUuAWIRQPj3R3OxFGLCape6WCprw8dlyyWGDTXpc2fgiNzx1E96tEwSK%2BySAGjMxygPwSGwf1LkmMfc2IntaVNzkzpmOF8JVm8I6g5yb%2B8Rj9cnAxWQ%3D%3D\n",
      "Resolving storage.googleapis.com... 74.125.197.128, 2607:f8b0:400e:c09::80\n",
      "Connecting to storage.googleapis.com|74.125.197.128|:443... connected.\n",
      "HTTP request sent, awaiting response... 200 OK\n",
      "Length: 10145006231 (9.4G) [application/zip]\n",
      "Saving to: ‘/home/ec2-user/SageMaker/efs/deepfake-detect-datalake/dfdc_train_part_03.zip’\n",
      "\n",
      "/home/ec2-user/Sage 100%[===================>]   9.45G  84.9MB/s    in 2m 5s   \n",
      "\n",
      "2020-03-23 23:24:24 (77.7 MB/s) - ‘/home/ec2-user/SageMaker/efs/deepfake-detect-datalake/dfdc_train_part_03.zip’ saved [10145006231/10145006231]\n",
      "\n"
     ]
    }
   ],
   "source": [
    "# Download and extract (all 50) deepfake video file partitions.\n",
    "# Note: kaggle urls and filenames are effectively hardcoded.\n",
    "\n",
    "# Can set istart and istop (same indexing as range fcn) to pull a\n",
    "# subsets of the partitions if something goes wrong in the middle.\n",
    "def download_kaggle_data(istart=50, istop=None):\n",
    "#{\n",
    "    if istop is None: \n",
    "        istart, istop = 0, istart\n",
    "        \n",
    "    for i in range(istart, istop):\n",
    "        zipname = f'dfdc_train_part_{i:02d}.zip'\n",
    "        url = f'https://www.kaggle.com/c/16880/datadownload/{zipname}'\n",
    "        !wget --load-cookies '{cookies_txt}' -O '{data_lake}/{zipname}' '{url}'\n",
    "        !unzip -q '{data_lake}/{zipname}' -d '{data_lake}'\n",
    "        !rm '{data_lake}/{zipname}'\n",
    "#}\n",
    "\n",
    "# NOTE: uncomment this line to download all partitions\n",
    "download_kaggle_data()\n",
    "\n",
    "# These two partitions, 18 and 35, are slightly incomplete relative to \n",
    "# metadata files, but re-downloading then did not correct the issue.\n",
    "# download_kaggle_data(18, 19)\n",
    "# download_kaggle_data(35, 36)"
   ]
  },
  {
   "cell_type": "code",
   "execution_count": null,
   "metadata": {},
   "outputs": [],
   "source": []
  }
 ],
 "metadata": {
  "kernelspec": {
   "display_name": "conda_deepfake",
   "language": "python",
   "name": "conda_deepfake"
  },
  "language_info": {
   "codemirror_mode": {
    "name": "ipython",
    "version": 3
   },
   "file_extension": ".py",
   "mimetype": "text/x-python",
   "name": "python",
   "nbconvert_exporter": "python",
   "pygments_lexer": "ipython3",
   "version": "3.7.6"
  }
 },
 "nbformat": 4,
 "nbformat_minor": 4
}
