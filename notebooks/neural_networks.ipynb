{
 "cells": [
  {
   "cell_type": "code",
   "execution_count": 1,
   "metadata": {},
   "outputs": [
    {
     "name": "stdout",
     "output_type": "stream",
     "text": [
      "Available memory: 10722.3125 Mb\n",
      "Using Tensorflow v2.0.0\n"
     ]
    }
   ],
   "source": [
    "%load_ext autoreload\n",
    "%autoreload 2\n",
    "\n",
    "import sys, os, re, time\n",
    "from os import listdir\n",
    "\n",
    "import psutil\n",
    "process = psutil.Process(os.getpid())\n",
    "nbytes = process.memory_info().rss # bytes\n",
    "print(f\"Available memory: {psutil.virtual_memory().available / 1024 / 1024} Mb\")\n",
    "# print(f\"Process memory: {nbytes} bytes ({nbytes / 1024 / 1024} Mb)\") \n",
    "\n",
    "import numpy as np\n",
    "import tensorflow as tf\n",
    "from tensorflow import keras\n",
    "print(f\"Using Tensorflow v{tf.__version__}\")\n",
    "\n",
    "import matplotlib\n",
    "import matplotlib.pyplot as plt \n",
    "\n",
    "# For managing relative imports from notebook\n",
    "if '..' not in sys.path: sys.path.append('..')\n",
    "\n",
    "import config.config as dfc\n",
    "import deepfake.dfutillib as df"
   ]
  },
  {
   "cell_type": "code",
   "execution_count": 2,
   "metadata": {},
   "outputs": [],
   "source": [
    "def create_conv_network():\n",
    "#{\n",
    "    # Sort of a smaller, blended version of AlexNet and VGG-16\n",
    "\n",
    "    # Layer #0: Input\n",
    "    X_input = keras.layers.Input(shape=(1080, 1920, 3))\n",
    "    \n",
    "    # Layer #1-2: First set of convolutional layers\n",
    "    X = keras.layers.Conv2D(filters=32, kernel_size=(11,11), strides=(2,4))(X_input)\n",
    "    X = keras.layers.Conv2D(filters=32, kernel_size=(11,11), strides=(2,4))(X)\n",
    "    X = keras.layers.MaxPooling2D()(X)\n",
    "    \n",
    "    # Layer #3-4: Second set of convolutional layers\n",
    "    X = keras.layers.Conv2D(filters=64, kernel_size=(3,3), strides=(1,1))(X)\n",
    "    X = keras.layers.Conv2D(filters=64, kernel_size=(3,3), strides=(1,1))(X)\n",
    "    X = keras.layers.MaxPooling2D()(X)\n",
    "    \n",
    "    # Layer #5-6: Third set of convolutional layers\n",
    "    X = keras.layers.Conv2D(filters=128, kernel_size=(3,3), strides=(1,1))(X)\n",
    "    X = keras.layers.Conv2D(filters=128, kernel_size=(3,3), strides=(1,1))(X)\n",
    "    X = keras.layers.MaxPooling2D()(X)\n",
    "    \n",
    "    # Layer #7-9: Fully connected layers\n",
    "    X = keras.layers.Flatten()(X)\n",
    "    X = keras.layers.Dense(512, activation = \"relu\")(X)\n",
    "    X = keras.layers.Dense(512, activation = \"relu\")(X)\n",
    "    X_output = keras.layers.Dense(1, activation = \"relu\")(X)\n",
    "    \n",
    "    model = keras.models.Model(inputs = X_input, outputs = X_output)\n",
    "    model.summary()\n",
    "\n",
    "    return model\n",
    "#}"
   ]
  },
  {
   "cell_type": "code",
   "execution_count": 3,
   "metadata": {},
   "outputs": [
    {
     "name": "stdout",
     "output_type": "stream",
     "text": [
      "Model: \"model\"\n",
      "_________________________________________________________________\n",
      "Layer (type)                 Output Shape              Param #   \n",
      "=================================================================\n",
      "input_1 (InputLayer)         [(None, 1080, 1920, 3)]   0         \n",
      "_________________________________________________________________\n",
      "conv2d (Conv2D)              (None, 535, 478, 32)      11648     \n",
      "_________________________________________________________________\n",
      "conv2d_1 (Conv2D)            (None, 263, 117, 32)      123936    \n",
      "_________________________________________________________________\n",
      "max_pooling2d (MaxPooling2D) (None, 131, 58, 32)       0         \n",
      "_________________________________________________________________\n",
      "conv2d_2 (Conv2D)            (None, 129, 56, 64)       18496     \n",
      "_________________________________________________________________\n",
      "conv2d_3 (Conv2D)            (None, 127, 54, 64)       36928     \n",
      "_________________________________________________________________\n",
      "max_pooling2d_1 (MaxPooling2 (None, 63, 27, 64)        0         \n",
      "_________________________________________________________________\n",
      "conv2d_4 (Conv2D)            (None, 61, 25, 128)       73856     \n",
      "_________________________________________________________________\n",
      "conv2d_5 (Conv2D)            (None, 59, 23, 128)       147584    \n",
      "_________________________________________________________________\n",
      "max_pooling2d_2 (MaxPooling2 (None, 29, 11, 128)       0         \n",
      "_________________________________________________________________\n",
      "flatten (Flatten)            (None, 40832)             0         \n",
      "_________________________________________________________________\n",
      "dense (Dense)                (None, 512)               20906496  \n",
      "_________________________________________________________________\n",
      "dense_1 (Dense)              (None, 512)               262656    \n",
      "_________________________________________________________________\n",
      "dense_2 (Dense)              (None, 1)                 513       \n",
      "=================================================================\n",
      "Total params: 21,582,113\n",
      "Trainable params: 21,582,113\n",
      "Non-trainable params: 0\n",
      "_________________________________________________________________\n"
     ]
    }
   ],
   "source": [
    "# Generate model and configure for training\n",
    "model = create_conv_network()\n",
    "opt = keras.optimizers.Adam(lr=0.001, beta_1=0.9, beta_2=0.999, decay=1e-6)\n",
    "early_stop = [keras.callbacks.EarlyStopping(monitor='val_loss', patience=5)]\n",
    "model.compile(loss='mean_squared_error', optimizer=opt, metrics=['accuracy'])"
   ]
  },
  {
   "cell_type": "code",
   "execution_count": 4,
   "metadata": {},
   "outputs": [],
   "source": [
    "splitter = df.DataSplitter(validation_split=0.2, data_subset=0.2)\n",
    "train_loader = df.lazy_load_partition(splitter)\n",
    "valid_loader = df.lazy_load_partition(splitter, validation=True)"
   ]
  },
  {
   "cell_type": "code",
   "execution_count": 5,
   "metadata": {},
   "outputs": [
    {
     "name": "stdout",
     "output_type": "stream",
     "text": [
      "Epoch 1/5\n",
      "213/213 [==============================] - 9210s 43s/step - loss: 245703859.6669 - accuracy: 0.0610 - val_loss: 3.2163 - val_accuracy: 0.0000e+00\n",
      "Epoch 2/5\n",
      "213/213 [==============================] - 9175s 43s/step - loss: 3.2557 - accuracy: 0.0798 - val_loss: 3.2834 - val_accuracy: 0.0000e+00\n",
      "Epoch 3/5\n",
      "213/213 [==============================] - 9164s 43s/step - loss: 2.8861 - accuracy: 0.1362 - val_loss: 3.4984 - val_accuracy: 0.1887\n",
      "Epoch 4/5\n",
      "213/213 [==============================] - 9184s 43s/step - loss: 3.1613 - accuracy: 0.0516 - val_loss: 2.5411 - val_accuracy: 0.1887\n",
      "Epoch 5/5\n",
      "213/213 [==============================] - 9256s 43s/step - loss: 3.2701 - accuracy: 0.0000e+00 - val_loss: 2.9051 - val_accuracy: 0.1887\n",
      "Total training time: 45988.241\n"
     ]
    }
   ],
   "source": [
    "initial = time.time()\n",
    "history = model.fit_generator(\n",
    "    generator=train_loader, steps_per_epoch=len(splitter.train_split),\n",
    "    validation_data=valid_loader, validation_steps=len(splitter.valid_split),\n",
    "    callbacks=early_stop, epochs=5)\n",
    "\n",
    "print(f\"Total training time: {time.time()-initial:.3f}\")"
   ]
  },
  {
   "cell_type": "code",
   "execution_count": 6,
   "metadata": {},
   "outputs": [
    {
     "name": "stdout",
     "output_type": "stream",
     "text": [
      "dict_keys(['loss', 'accuracy', 'val_loss', 'val_accuracy'])\n"
     ]
    },
    {
     "data": {
      "text/plain": [
       "<matplotlib.legend.Legend at 0x171c5ae10>"
      ]
     },
     "execution_count": 6,
     "metadata": {},
     "output_type": "execute_result"
    },
    {
     "data": {
      "image/png": "[encoded data removed]",
      "text/plain": [
       "<Figure size 432x288 with 1 Axes>"
      ]
     },
     "metadata": {
      "needs_background": "light"
     },
     "output_type": "display_data"
    },
    {
     "data": {
      "image/png": "[encoded data removed]",
      "text/plain": [
       "<Figure size 432x288 with 1 Axes>"
      ]
     },
     "metadata": {
      "needs_background": "light"
     },
     "output_type": "display_data"
    }
   ],
   "source": [
    "print(history.history.keys())\n",
    "\n",
    "# Plot with respect to accuracy\n",
    "plt.figure(1)\n",
    "plt.plot(history.history['accuracy'])\n",
    "plt.plot(history.history['val_accuracy'])\n",
    "plt.title('Model Accuracy')\n",
    "plt.ylabel('Accuracy')\n",
    "plt.xlabel('Epoch')\n",
    "plt.legend(['train', 'validate'], loc='upper left')\n",
    "\n",
    "# Plot with respect to loss\n",
    "plt.figure(2)\n",
    "plt.plot(history.history['loss'])\n",
    "plt.plot(history.history['val_loss'])\n",
    "plt.title('Model Loss')\n",
    "plt.ylabel('Loss')\n",
    "plt.xlabel('Epoch')\n",
    "plt.legend(['train', 'validate'], loc='upper left')"
   ]
  },
  {
   "cell_type": "code",
   "execution_count": null,
   "metadata": {},
   "outputs": [],
   "source": []
  }
 ],
 "metadata": {
  "kernelspec": {
   "display_name": "Python 3",
   "language": "python",
   "name": "python3"
  },
  "language_info": {
   "codemirror_mode": {
    "name": "ipython",
    "version": 3
   },
   "file_extension": ".py",
   "mimetype": "text/x-python",
   "name": "python",
   "nbconvert_exporter": "python",
   "pygments_lexer": "ipython3",
   "version": "3.7.6"
  }
 },
 "nbformat": 4,
 "nbformat_minor": 4
}
