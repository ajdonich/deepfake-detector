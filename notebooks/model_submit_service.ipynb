{
 "cells": [
  {
   "cell_type": "code",
   "execution_count": 1,
   "metadata": {},
   "outputs": [
    {
     "name": "stdout",
     "output_type": "stream",
     "text": [
      "Using Tensorflow v2.1.0\n"
     ]
    }
   ],
   "source": [
    "%load_ext autoreload\n",
    "%autoreload 2\n",
    "\n",
    "import sys, os, time, re, datetime\n",
    "\n",
    "import numpy as np\n",
    "import tensorflow as tf\n",
    "from tensorflow import keras\n",
    "print(f\"Using Tensorflow v{tf.__version__}\")\n",
    "\n",
    "# For managing relative imports from notebook\n",
    "if '..' not in sys.path: sys.path.append('..')\n",
    "\n",
    "import config.config as dfc\n",
    "import deepfake.dfutillib as df\n",
    "import deepfake.modelutil as mutil"
   ]
  },
  {
   "cell_type": "code",
   "execution_count": 2,
   "metadata": {},
   "outputs": [
    {
     "name": "stdout",
     "output_type": "stream",
     "text": [
      "Model: \"model\"\n",
      "__________________________________________________________________________________________________\n",
      "Layer (type)                    Output Shape         Param #     Connected to                     \n",
      "==================================================================================================\n",
      "input_1 (InputLayer)            [(None, 360, 640, 3) 0                                            \n",
      "__________________________________________________________________________________________________\n",
      "conv2d (Conv2D)                 (None, 175, 158, 32) 11648       input_1[0][0]                    \n",
      "__________________________________________________________________________________________________\n",
      "max_pooling2d (MaxPooling2D)    (None, 87, 79, 32)   0           conv2d[0][0]                     \n",
      "__________________________________________________________________________________________________\n",
      "conv2d_1 (Conv2D)               (None, 85, 77, 64)   18496       max_pooling2d[0][0]              \n",
      "__________________________________________________________________________________________________\n",
      "max_pooling2d_1 (MaxPooling2D)  (None, 42, 38, 64)   0           conv2d_1[0][0]                   \n",
      "__________________________________________________________________________________________________\n",
      "conv2d_2 (Conv2D)               (None, 40, 36, 128)  73856       max_pooling2d_1[0][0]            \n",
      "__________________________________________________________________________________________________\n",
      "max_pooling2d_2 (MaxPooling2D)  (None, 20, 18, 128)  0           conv2d_2[0][0]                   \n",
      "__________________________________________________________________________________________________\n",
      "flatten (Flatten)               (None, 46080)        0           max_pooling2d_2[0][0]            \n",
      "__________________________________________________________________________________________________\n",
      "dense (Dense)                   (None, 720)          33178320    flatten[0][0]                    \n",
      "__________________________________________________________________________________________________\n",
      "dense_1 (Dense)                 (None, 720)          519120      dense[0][0]                      \n",
      "__________________________________________________________________________________________________\n",
      "concatenate (Concatenate)       (None, 46800)        0           dense_1[0][0]                    \n",
      "                                                                 flatten[0][0]                    \n",
      "__________________________________________________________________________________________________\n",
      "reshape (Reshape)               (None, 20, 18, 130)  0           concatenate[0][0]                \n",
      "__________________________________________________________________________________________________\n",
      "up_sampling2d (UpSampling2D)    (None, 40, 36, 130)  0           reshape[0][0]                    \n",
      "__________________________________________________________________________________________________\n",
      "conv2d_transpose (Conv2DTranspo (None, 42, 38, 64)   74944       up_sampling2d[0][0]              \n",
      "__________________________________________________________________________________________________\n",
      "up_sampling2d_1 (UpSampling2D)  (None, 84, 76, 64)   0           conv2d_transpose[0][0]           \n",
      "__________________________________________________________________________________________________\n",
      "conv2d_transpose_1 (Conv2DTrans (None, 86, 78, 32)   18464       up_sampling2d_1[0][0]            \n",
      "__________________________________________________________________________________________________\n",
      "up_sampling2d_2 (UpSampling2D)  (None, 172, 156, 32) 0           conv2d_transpose_1[0][0]         \n",
      "__________________________________________________________________________________________________\n",
      "conv2d_transpose_2 (Conv2DTrans (None, 353, 631, 3)  11619       up_sampling2d_2[0][0]            \n",
      "__________________________________________________________________________________________________\n",
      "max_pooling2d_3 (MaxPooling2D)  (None, 58, 105, 3)   0           conv2d_transpose_2[0][0]         \n",
      "__________________________________________________________________________________________________\n",
      "flatten_1 (Flatten)             (None, 18270)        0           max_pooling2d_3[0][0]            \n",
      "__________________________________________________________________________________________________\n",
      "dense_2 (Dense)                 (None, 512)          9354752     flatten_1[0][0]                  \n",
      "__________________________________________________________________________________________________\n",
      "dense_3 (Dense)                 (None, 512)          262656      dense_2[0][0]                    \n",
      "__________________________________________________________________________________________________\n",
      "fake_output (Dense)             (None, 1)            513         dense_3[0][0]                    \n",
      "==================================================================================================\n",
      "Total params: 43,524,388\n",
      "Trainable params: 0\n",
      "Non-trainable params: 43,524,388\n",
      "__________________________________________________________________________________________________\n"
     ]
    }
   ],
   "source": [
    "# ------------------------- Model Instantiation -------------------------\n",
    "\n",
    "mwrapper = mutil.ModelWrapper()\n",
    "model = mwrapper.init_encdec_network(traindiff=False, trainfake=False)\n",
    "model.load_weights(f'{dfc.MODEL_STORE}/model.60-0.42.hdf5')"
   ]
  },
  {
   "cell_type": "code",
   "execution_count": 3,
   "metadata": {},
   "outputs": [],
   "source": [
    "# Model data loaders wrapped in tf.data Dataset\n",
    "testloader = mutil.ModelLoader(split='test')\n",
    "testdataset = tf.data.Dataset.from_generator(generator=testloader.test_loader, \n",
    "    output_types=tf.uint8, output_shapes=(None, 360, 640, 3))\n",
    "\n",
    "# holdoutloader = mutil.ModelLoader(split='holdout')\n",
    "# holdoutdataset = tf.data.Dataset.from_generator(generator=holdoutloader.holdout_loader, \n",
    "#     output_types=tf.uint8, output_shapes=(None, 360, 640, 3))\n"
   ]
  },
  {
   "cell_type": "code",
   "execution_count": 4,
   "metadata": {},
   "outputs": [
    {
     "name": "stdout",
     "output_type": "stream",
     "text": [
      "400/400 [==============================] - 1020s 3s/step\n"
     ]
    }
   ],
   "source": [
    "framepredicts = model.predict(x=testdataset, steps=testloader.epochsz, verbose=1)\n",
    "# framepredicts = model.predict(x=holdoutdataset, steps=holdoutloader.epochsz, verbose=1)"
   ]
  },
  {
   "cell_type": "code",
   "execution_count": 5,
   "metadata": {},
   "outputs": [],
   "source": [
    "framepredicts = np.squeeze(framepredicts)\n",
    "with open('./submission.csv', 'w') as f_handle:\n",
    "#{\n",
    "    f_handle.write('filename,label\\n')\n",
    "    for vidx, fstep in enumerate(range(0, len(framepredicts), 60)):\n",
    "    #{    \n",
    "        ireal = np.argmin(framepredicts[fstep:fstep+60], axis=0)\n",
    "        ifake = np.argmax(framepredicts[fstep:fstep+60], axis=0)\n",
    "        vidavg = np.average(framepredicts[fstep:fstep+60])\n",
    "        bestpred = (framepredicts[fstep+ireal] if vidavg < 0.5 \n",
    "                    else framepredicts[fstep+ifake])\n",
    "        \n",
    "        f_handle.write(f'{testloader.videostack[vidx]},{bestpred}\\n')\n",
    "        #f_handle.write(f'{videostack[vidx]},{bestpred}\\n')\n",
    "    #}\n",
    "#}"
   ]
  },
  {
   "cell_type": "code",
   "execution_count": null,
   "metadata": {},
   "outputs": [],
   "source": [
    "# import re\n",
    "\n",
    "# regex = r'model.*-(\\d\\.\\d\\d).*hdf5'\n",
    "# filterkey = lambda mname: re.match(regex, mname)\n",
    "# sortkey = lambda mname: float(re.match(regex, mname).group(1))\n",
    "\n",
    "# sorted(filter(filterkey, os.listdir(dfc.MODEL_STORE)), key=sortkey)"
   ]
  },
  {
   "cell_type": "code",
   "execution_count": null,
   "metadata": {},
   "outputs": [],
   "source": []
  }
 ],
 "metadata": {
  "kernelspec": {
   "display_name": "conda_deepfake",
   "language": "python",
   "name": "deepfake"
  },
  "language_info": {
   "codemirror_mode": {
    "name": "ipython",
    "version": 3
   },
   "file_extension": ".py",
   "mimetype": "text/x-python",
   "name": "python",
   "nbconvert_exporter": "python",
   "pygments_lexer": "ipython3",
   "version": "3.7.6"
  }
 },
 "nbformat": 4,
 "nbformat_minor": 4
}
