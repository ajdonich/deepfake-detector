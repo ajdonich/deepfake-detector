{
 "cells": [
  {
   "cell_type": "code",
   "execution_count": 1,
   "metadata": {},
   "outputs": [],
   "source": [
    "import cv2"
   ]
  },
  {
   "cell_type": "code",
   "execution_count": 2,
   "metadata": {},
   "outputs": [],
   "source": [
    "# Keystrokes to close display \n",
    "# window: q, esc, or <space bar>\n",
    "\n",
    "KEY_Q     = 113\n",
    "KEY_ESC   = 27\n",
    "KEY_SPACE = 32\n",
    "\n",
    "def cleanup(camera, win_name):\n",
    "    camera.release()\n",
    "    cv2.destroyWindow(win_name)\n",
    "    cv2.waitKey(1)"
   ]
  },
  {
   "cell_type": "code",
   "execution_count": null,
   "metadata": {},
   "outputs": [],
   "source": [
    "def display_camera(win_name='camera'):\n",
    "#{\n",
    "    camera = cv2.VideoCapture(0)\n",
    "    cv2.namedWindow(win_name)\n",
    "    cv2.startWindowThread()\n",
    "\n",
    "    try:\n",
    "    #{\n",
    "        while True:\n",
    "            vsuccess, cameraframe = camera.read()\n",
    "            cv2.imshow(win_name, cameraframe)\n",
    "\n",
    "            k = cv2.waitKey(30)\n",
    "            if k == KEY_Q or k == KEY_ESC or k == KEY_SPACE:\n",
    "                cleanup(camera, win_name)\n",
    "                break\n",
    "    #}  \n",
    "    except KeyboardInterrupt as keyinterrupt:\n",
    "        cleanup(camera, win_name)\n",
    "        raise keyinterrupt # Rethrow to notebook cell\n",
    "#}\n",
    "\n",
    "display_camera()"
   ]
  },
  {
   "cell_type": "code",
   "execution_count": 3,
   "metadata": {},
   "outputs": [],
   "source": [
    "# Experimented with including face profile detection with:\n",
    "# profile_config = '../config/haarcascade_profileface.xml'\n",
    "# profile_detector = cv2.CascadeClassifier(profile_config)\n",
    "\n",
    "# But decided against it for now because the detector was \n",
    "# already causing camera lag, plus it only detects left side \n",
    "# profiles, and would thus require an image flip and a full \n",
    "# second pass through the detector to be fully effective.\n",
    "\n",
    "def face_detect_camera(win_name='camera'):\n",
    "#{    \n",
    "    camera = cv2.VideoCapture(0)\n",
    "    cv2.namedWindow(win_name)\n",
    "    cv2.startWindowThread()\n",
    "\n",
    "    frontal_config = '../config/haarcascade_frontalface_default.xml'\n",
    "    frontal_detector = cv2.CascadeClassifier(frontal_config)\n",
    "\n",
    "    try:\n",
    "    #{\n",
    "        while True:\n",
    "        #{\n",
    "            # Read camera frame\n",
    "            vsuccess, cameraframe = camera.read()\n",
    "            \n",
    "            # Create gray scale version of frame and run classifiers\n",
    "            greyframe = cv2.cvtColor(cameraframe, cv2.COLOR_BGR2GRAY)\n",
    "            facerects = frontal_detector.detectMultiScale(greyframe, 1.1, 4)\n",
    "                                    \n",
    "            # Draw detected rectangles onto frame\n",
    "            for (x, y, w, h) in facerects: cv2.rectangle(\n",
    "                cameraframe, (x, y), (x+w, y+h), (255, 0, 0), 2)\n",
    "            \n",
    "            # Display\n",
    "            cv2.imshow(win_name, cameraframe)\n",
    "            k = cv2.waitKey(30)\n",
    "            \n",
    "            # Catch window close keystrokes\n",
    "            if k == KEY_Q or k == KEY_ESC or k == KEY_SPACE:\n",
    "                cleanup(camera, win_name)\n",
    "                break\n",
    "        #}\n",
    "    #}\n",
    "    except KeyboardInterrupt as keyinterrupt:\n",
    "        cleanup(camera, win_name)\n",
    "        raise keyinterrupt # Rethrow to notebook cell\n",
    "#}\n",
    "\n",
    "face_detect_camera()"
   ]
  },
  {
   "cell_type": "code",
   "execution_count": null,
   "metadata": {},
   "outputs": [],
   "source": []
  }
 ],
 "metadata": {
  "kernelspec": {
   "display_name": "Python 3",
   "language": "python",
   "name": "python3"
  },
  "language_info": {
   "codemirror_mode": {
    "name": "ipython",
    "version": 3
   },
   "file_extension": ".py",
   "mimetype": "text/x-python",
   "name": "python",
   "nbconvert_exporter": "python",
   "pygments_lexer": "ipython3",
   "version": "3.7.6"
  }
 },
 "nbformat": 4,
 "nbformat_minor": 4
}
